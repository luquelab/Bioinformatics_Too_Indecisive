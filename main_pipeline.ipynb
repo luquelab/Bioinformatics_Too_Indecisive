{
 "cells": [
  {
   "cell_type": "code",
   "execution_count": 10,
   "metadata": {},
   "outputs": [
    {
     "name": "stdout",
     "output_type": "stream",
     "text": [
      "Folder structure created at d:\\Microsoft VS Code\\assignment_1_Li\n"
     ]
    }
   ],
   "source": [
    "import os\n",
    "\n",
    "def create_folders(base_folder, last_name, fasta_file=\"sequences.fna\"):\n",
    "    \"\"\"\n",
    "    Create the folder structure for the assignment.\n",
    "    \n",
    "    Parameters:\n",
    "    - base_folder: The root directory where the structure will be created.\n",
    "    - last_name: The last name to be included in folder and report names.\n",
    "    - fasta_file: Path to the fasta file containing sequence IDs.\n",
    "    \"\"\"\n",
    "    # Define the base directory\n",
    "    root_dir = os.path.join(base_folder, f\"assignment_1_{last_name}\")\n",
    "    \n",
    "    # Define main directories\n",
    "    subdirs = [\n",
    "        \"data/folded_proteins\",\n",
    "        \"bin\",\n",
    "        \"results/sequence_properties\",\n",
    "        \"results/alignments\",\n",
    "        \"results/phylogenetic_tree\",\n",
    "        \"results/functional_prediction\",\n",
    "        \"results/organism_origin\",\n",
    "        \"results/predicted_structures\",\n",
    "        \"results/structural_homology\",\n",
    "        \"results/pair_homology/pair_comparisons\",\n",
    "        \"docs\"\n",
    "    ]\n",
    "    \n",
    "    # Create directories\n",
    "    for subdir in subdirs:\n",
    "        os.makedirs(os.path.join(root_dir, subdir), exist_ok=True)\n",
    "    \n",
    "    # Create specific files\n",
    "    open(os.path.join(root_dir, \"readme.md\"), \"w\").close()\n",
    "    open(os.path.join(root_dir, \"data\", \"sequences.fna\"), \"w\").close()\n",
    "    open(os.path.join(root_dir, \"bin\", \"sequence_analysis_pipeline.ipynb\"), \"w\").close()\n",
    "    open(os.path.join(root_dir, \"bin\", \"structure_analysis_pipeline.ipynb\"), \"w\").close()\n",
    "    \n",
    "    # Create report files\n",
    "    open(os.path.join(root_dir, \"docs\", f\"report_{last_name}.docx\"), \"w\").close()\n",
    "    open(os.path.join(root_dir, \"docs\", f\"report_{last_name}.pdf\"), \"w\").close()\n",
    "\n",
    "    # Process the FASTA file for sequence IDs\n",
    "    fasta_path = os.path.join(root_dir, \"data\", fasta_file)\n",
    "   \n",
    "    \n",
    "    print(f\"Folder structure created at {root_dir}\")\n",
    "\n",
    "# Usage example\n",
    "create_folders(base_folder=os.getcwd(), last_name=\"Li\")  # Replace 'Doe' with the actual last name\n"
   ]
  }
 ],
 "metadata": {
  "kernelspec": {
   "display_name": "bioinfo",
   "language": "python",
   "name": "python3"
  },
  "language_info": {
   "codemirror_mode": {
    "name": "ipython",
    "version": 3
   },
   "file_extension": ".py",
   "mimetype": "text/x-python",
   "name": "python",
   "nbconvert_exporter": "python",
   "pygments_lexer": "ipython3",
   "version": "3.12.8"
  }
 },
 "nbformat": 4,
 "nbformat_minor": 2
}
